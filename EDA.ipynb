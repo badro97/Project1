{
  "nbformat": 4,
  "nbformat_minor": 0,
  "metadata": {
    "colab": {
      "private_outputs": true,
      "provenance": [],
      "collapsed_sections": []
    },
    "kernelspec": {
      "name": "python3",
      "display_name": "Python 3"
    },
    "language_info": {
      "name": "python"
    }
  },
  "cells": [
    {
      "cell_type": "code",
      "source": [
        "# EDA/데이터 전처리"
      ],
      "metadata": {
        "id": "c8VzpPAR3-en"
      },
      "execution_count": null,
      "outputs": []
    },
    {
      "cell_type": "code",
      "execution_count": null,
      "metadata": {
        "id": "VU96_4aVzePv"
      },
      "outputs": [],
      "source": [
        "import pandas as pd\n",
        "from bs4 import BeautifulSoup\n",
        "import numpy as np\n",
        "import requests as re"
      ]
    },
    {
      "cell_type": "code",
      "source": [
        "df = pd.read_csv('vgames2.csv')"
      ],
      "metadata": {
        "id": "AgEe3KeBcWgy"
      },
      "execution_count": null,
      "outputs": []
    },
    {
      "cell_type": "code",
      "source": [
        "df.info()"
      ],
      "metadata": {
        "id": "A8qKTFS00igz"
      },
      "execution_count": null,
      "outputs": []
    },
    {
      "cell_type": "code",
      "source": [
        "df.columns"
      ],
      "metadata": {
        "id": "y4poDC-YzuOL"
      },
      "execution_count": null,
      "outputs": []
    },
    {
      "cell_type": "code",
      "source": [
        "df = df.drop(['Unnamed: 0'], axis=1)"
      ],
      "metadata": {
        "id": "GjG7ODZSVs6d"
      },
      "execution_count": null,
      "outputs": []
    },
    {
      "cell_type": "code",
      "source": [
        "df['Name'].duplicated().sum()"
      ],
      "metadata": {
        "id": "WWN3MPev0nK7"
      },
      "execution_count": null,
      "outputs": []
    },
    {
      "cell_type": "code",
      "source": [
        "# 게임 이름 기준 중복 값 제거\n",
        "df = df.drop_duplicates(['Name']).reset_index(drop=True)"
      ],
      "metadata": {
        "id": "ODHBXDgabHJE"
      },
      "execution_count": null,
      "outputs": []
    },
    {
      "cell_type": "code",
      "source": [
        "df.duplicated().sum()"
      ],
      "metadata": {
        "id": "pog9ftWsbxUb"
      },
      "execution_count": null,
      "outputs": []
    },
    {
      "cell_type": "code",
      "source": [
        "df.info()"
      ],
      "metadata": {
        "id": "lUAJOJWSbQvr"
      },
      "execution_count": null,
      "outputs": []
    },
    {
      "cell_type": "code",
      "source": [
        "df"
      ],
      "metadata": {
        "id": "yAZCUDtzlmX9"
      },
      "execution_count": null,
      "outputs": []
    },
    {
      "cell_type": "code",
      "source": [
        "# 제거하고자 하는 문자열 리스트 (검색 시 나오지 않거나 찾기 힘든 게임들 삭제)\n",
        "example_list = [\"Disney's Cinderella: Magical Dreams\", \"Chou Soujuu Mecha MG\", \"Swords\", \"The Smurfs\", \"Sonic the Hedgehog\", \"AKB1/48: Idol to Guam de Koishitara...\", \"The Hidden\", \"Hakuouki: Shinsengumi Kitan\", \"Indy 500\", \"Clockwork Empires\", \"Tornado\", \"Tour de France 2011\", \"Karate\"]"
      ],
      "metadata": {
        "id": "szYqBPsPOWPL"
      },
      "execution_count": null,
      "outputs": []
    },
    {
      "cell_type": "code",
      "source": [
        "for i in example_list:\n",
        "  id = df.loc[df.Name == i]\n",
        "  df.drop(id.index, inplace=True)\n",
        "  df.reset_index(drop=True, inplace=True)"
      ],
      "metadata": {
        "id": "1hoKhKw7VO_l"
      },
      "execution_count": null,
      "outputs": []
    },
    {
      "cell_type": "code",
      "source": [
        "df.info()"
      ],
      "metadata": {
        "id": "q80n9hziVWEt"
      },
      "execution_count": null,
      "outputs": []
    },
    {
      "cell_type": "code",
      "source": [
        "# 년도 결측치 인덱스 확인\n",
        "yni = df[df['Year'].isnull()].index"
      ],
      "metadata": {
        "id": "fpXeaaOWg7ha"
      },
      "execution_count": null,
      "outputs": []
    },
    {
      "cell_type": "code",
      "source": [
        "yni"
      ],
      "metadata": {
        "id": "wIp8qr3Bh37C"
      },
      "execution_count": null,
      "outputs": []
    },
    {
      "cell_type": "code",
      "source": [
        "names = df['Name'].str.replace(' ', '_')"
      ],
      "metadata": {
        "id": "CGwotY8OV1j3"
      },
      "execution_count": null,
      "outputs": []
    },
    {
      "cell_type": "code",
      "source": [
        "# 출시 년도 웹크롤링\n",
        "y = []\n",
        "\n",
        "for i in yni:\n",
        "  base = 'https://www.wikiwand.com/en/'\n",
        "  url = names[i]\n",
        "  headers = {'useragent': 'Mozilla/5.0 (Macintosh; Intel Mac OS X 10_15_7) AppleWebKit/537.36 (KHTML, like Gecko) Chrome/88.0.4324.96 Safari/537.36'}        \n",
        "  response = re.get(base+url, headers=headers)\n",
        "  html = BeautifulSoup(response.text, \"lxml\")\n",
        "  table = html.select(\"table\")\n",
        "  \n",
        "  if table:    \n",
        "    tables = pd.read_html(str(table))\n",
        "    t = tables[0]\n",
        "    a = t.loc[(t[t.columns[0]] =='First release') | (t[t.columns[0]] =='release') | (t[t.columns[0]] =='Released') | (t[t.columns[0]] =='Release') | (t[t.columns[0]] =='Publication date') | (t[t.columns[0]] =='Release dates') | (t[t.columns[0]] =='Release date')]\n",
        "    if a.index == '':\n",
        "      response = re.get(base+url+'(video game)', headers=headers)        \n",
        "      html = BeautifulSoup(response.text, \"lxml\")        \n",
        "      table = html.select(\"table\")\n",
        "      tables = pd.read_html(str(table))\n",
        "      t = tables[0]\n",
        "\n",
        "    a = t.loc[(t[t.columns[0]] =='First release') | (t[t.columns[0]] =='release') | (t[t.columns[0]] =='Released') | (t[t.columns[0]] =='Release') | (t[t.columns[0]] =='Publication date') | (t[t.columns[0]] =='Release dates') | (t[t.columns[0]] =='Release date')]\n",
        "    s = a.loc[:, [t.columns[1]]]\n",
        "    l = list(s.loc[s.index[0]])\n",
        "    if l[0][-1] == ']':\n",
        "      l = l[0][len(str(l[0]))-7:-3]\n",
        "    else:\n",
        "      l = l[0][-4:]\n",
        "    y.append(l)\n",
        "  else:\n",
        "    y.append('')"
      ],
      "metadata": {
        "id": "j8nSE26zicET"
      },
      "execution_count": null,
      "outputs": []
    },
    {
      "cell_type": "code",
      "source": [
        "yni"
      ],
      "metadata": {
        "id": "ODA2h_HZtfnZ"
      },
      "execution_count": null,
      "outputs": []
    },
    {
      "cell_type": "code",
      "source": [
        "for i, v in enumerate(yni):\n",
        "  df.loc[v, 'Year'] = y[i]+'.0'"
      ],
      "metadata": {
        "id": "OgujthOMrkSp"
      },
      "execution_count": null,
      "outputs": []
    },
    {
      "cell_type": "code",
      "source": [
        "df"
      ],
      "metadata": {
        "id": "FbNDLIScuFio"
      },
      "execution_count": null,
      "outputs": []
    },
    {
      "cell_type": "code",
      "source": [
        "df['Year'].isnull().sum()"
      ],
      "metadata": {
        "id": "81_jUUWqvkrj"
      },
      "execution_count": null,
      "outputs": []
    },
    {
      "cell_type": "code",
      "source": [
        "df.info()"
      ],
      "metadata": {
        "id": "u0mrXEmjvs4w"
      },
      "execution_count": null,
      "outputs": []
    },
    {
      "cell_type": "code",
      "source": [
        "df2 = df.copy();"
      ],
      "metadata": {
        "id": "wOXQnP38cGn3"
      },
      "execution_count": null,
      "outputs": []
    },
    {
      "cell_type": "code",
      "source": [
        "df2['Year'] = df2['Year'].astype(str)\n",
        "df2['Year']"
      ],
      "metadata": {
        "id": "8eK6gVfSxrPv"
      },
      "execution_count": null,
      "outputs": []
    },
    {
      "cell_type": "code",
      "source": [
        "# Year값이 숫자가 아닌 행 삭제\n",
        "wrong_RY = df2[df2['Year'].str.contains('[a-zA-Z]')].index\n",
        "\n",
        "df2.drop(wrong_RY, inplace=True)\n",
        "df2.reset_index(drop=True, inplace=True)\n",
        "df2"
      ],
      "metadata": {
        "id": "CaKuaWNRsiSW"
      },
      "execution_count": null,
      "outputs": []
    },
    {
      "cell_type": "code",
      "source": [
        "df2.Year.isnull().sum()"
      ],
      "metadata": {
        "id": "jj8ZcOJk2vDa"
      },
      "execution_count": null,
      "outputs": []
    },
    {
      "cell_type": "code",
      "source": [
        "# 이상치 제거\n",
        "erase = ['1[1].0','][2].0','.0','006 .0']\n",
        "\n",
        "for i in erase:\n",
        "  e = df2.index[df2['Year']==i][0]\n",
        "  df2.drop(e, inplace=True)\n",
        "  df2.reset_index(drop=True, inplace=True)"
      ],
      "metadata": {
        "id": "vxD1cJjm0_I7"
      },
      "execution_count": null,
      "outputs": []
    },
    {
      "cell_type": "code",
      "source": [
        "df2.info()"
      ],
      "metadata": {
        "id": "_5-GGWVP4MDy"
      },
      "execution_count": null,
      "outputs": []
    },
    {
      "cell_type": "code",
      "source": [
        "df2['Year'] = df2['Year'].astype(float)\n",
        "df2.info()"
      ],
      "metadata": {
        "id": "_wOlPM6X1-1h"
      },
      "execution_count": null,
      "outputs": []
    },
    {
      "cell_type": "code",
      "source": [
        "df2.isnull().sum()"
      ],
      "metadata": {
        "id": "xqo60Fgi29SH"
      },
      "execution_count": null,
      "outputs": []
    },
    {
      "cell_type": "code",
      "source": [
        "df2"
      ],
      "metadata": {
        "id": "t4ZiN_qv3ymF"
      },
      "execution_count": null,
      "outputs": []
    },
    {
      "cell_type": "code",
      "source": [
        "# 년도 검색 시 나오지 않는 게임 제거\n",
        "example_list2 = [\"Disney's Aladdin\",\"Mobile Suit Gundam\"]"
      ],
      "metadata": {
        "id": "yroWLj2IuNgy"
      },
      "execution_count": null,
      "outputs": []
    },
    {
      "cell_type": "code",
      "source": [
        "for i in example_list2:\n",
        "  id2 = df2.loc[df2.Name == i]\n",
        "  df2.drop(id2.index, inplace=True)\n",
        "  df2.reset_index(drop=True, inplace=True)"
      ],
      "metadata": {
        "id": "j0RFrZJ8uZzw"
      },
      "execution_count": null,
      "outputs": []
    },
    {
      "cell_type": "code",
      "source": [
        "df2.info()"
      ],
      "metadata": {
        "id": "Fwcs2CQiwa7m"
      },
      "execution_count": null,
      "outputs": []
    },
    {
      "cell_type": "code",
      "source": [
        "# 년도가 10의 자리로 되어있는 것들만 다시 크롤링\n",
        "ind = []\n",
        "for i in df2.Year.unique():\n",
        "  if i // 1000 == 0:\n",
        "    ii = df2[df2['Year']==i].index\n",
        "    for j in range(len(ii)):\n",
        "      ind.append(ii[j])"
      ],
      "metadata": {
        "id": "TeaO2-8XwTEM"
      },
      "execution_count": null,
      "outputs": []
    },
    {
      "cell_type": "code",
      "source": [
        "# 크롤링을 위해 형태 변환\n",
        "Names = df2['Name'].str.replace(' ', '_')"
      ],
      "metadata": {
        "id": "qqB4sMxBvEwg"
      },
      "execution_count": null,
      "outputs": []
    },
    {
      "cell_type": "code",
      "source": [
        "# 출시 년도 웹크롤링2\n",
        "y = []\n",
        "\n",
        "for i in ind:\n",
        "  base = 'https://www.wikiwand.com/en/'\n",
        "  url = Names[i]\n",
        "  headers = {'useragent': 'Mozilla/5.0 (Macintosh; Intel Mac OS X 10_15_7) AppleWebKit/537.36 (KHTML, like Gecko) Chrome/88.0.4324.96 Safari/537.36'}        \n",
        "  response = re.get(base+url, headers=headers)\n",
        "  html = BeautifulSoup(response.text, \"lxml\")\n",
        "  table = html.select(\"table\")\n",
        "  \n",
        "  if table:    \n",
        "    tables = pd.read_html(str(table))\n",
        "    t = tables[0]\n",
        "    a = t.loc[(t[t.columns[0]] =='First release') | (t[t.columns[0]] =='release') | (t[t.columns[0]] =='Released') | (t[t.columns[0]] =='Release') | (t[t.columns[0]] =='Publication date') | (t[t.columns[0]] =='Release dates') | (t[t.columns[0]] =='Release date')]\n",
        "    print(url)\n",
        "    if a.index == '':\n",
        "      response = re.get(base+url+'(video game)', headers=headers)        \n",
        "      html = BeautifulSoup(response.text, \"lxml\")        \n",
        "      table = html.select(\"table\")\n",
        "      tables = pd.read_html(str(table))\n",
        "      t = tables[0]\n",
        "      print(t.columns[0])\n",
        "    a = t.loc[(t[t.columns[0]] =='First release') | (t[t.columns[0]] =='release') | (t[t.columns[0]] =='Released') | (t[t.columns[0]] =='Release') | (t[t.columns[0]] =='Publication date') | (t[t.columns[0]] =='Release dates') | (t[t.columns[0]] =='Release date')]\n",
        "    s = a.loc[:, [t.columns[1]]]\n",
        "    l = list(s.loc[s.index[0]])\n",
        "    if l[0][-1] == ']':\n",
        "      l = l[0][len(str(l[0]))-7:-3]\n",
        "    else:\n",
        "      l = l[0][-4:]\n",
        "    y.append(l)\n",
        "    print(t.columns[0])\n",
        "  else:\n",
        "    y.append('')"
      ],
      "metadata": {
        "id": "xRz4VploiY_5"
      },
      "execution_count": null,
      "outputs": []
    },
    {
      "cell_type": "code",
      "source": [
        "y2 = y"
      ],
      "metadata": {
        "id": "R-OmfMz3kTs5"
      },
      "execution_count": null,
      "outputs": []
    },
    {
      "cell_type": "code",
      "source": [
        "y2"
      ],
      "metadata": {
        "id": "AbX99UN9zhE6"
      },
      "execution_count": null,
      "outputs": []
    },
    {
      "cell_type": "code",
      "source": [
        "for i, v in enumerate(ind):\n",
        "  df2.loc[v, 'Year'] = y2[i]+'.0'"
      ],
      "metadata": {
        "id": "7m3-8WxAyyTJ"
      },
      "execution_count": null,
      "outputs": []
    },
    {
      "cell_type": "code",
      "source": [
        "# 이상치 제거\n",
        "erase = ['tes).0','ease.0','.0']\n",
        "\n",
        "for i in erase:\n",
        "  e = df2.index[df2['Year']==i]\n",
        "  df2.drop(e, inplace=True)\n",
        "  df2.reset_index(drop=True, inplace=True)"
      ],
      "metadata": {
        "id": "a_x__70tz3-n"
      },
      "execution_count": null,
      "outputs": []
    },
    {
      "cell_type": "code",
      "source": [
        "ee = df2.index[df2['Year']=='.0']\n",
        "df2.drop(ee, inplace=True)\n",
        "df2.reset_index(drop=True, inplace=True)"
      ],
      "metadata": {
        "id": "Tae-MAPAVP76"
      },
      "execution_count": null,
      "outputs": []
    },
    {
      "cell_type": "code",
      "source": [
        "df2.info()"
      ],
      "metadata": {
        "id": "PMsH5Y--0CRp"
      },
      "execution_count": null,
      "outputs": []
    },
    {
      "cell_type": "code",
      "source": [
        "df2['Year'].value_counts()"
      ],
      "metadata": {
        "id": "2zyF_ztRyqbe"
      },
      "execution_count": null,
      "outputs": []
    },
    {
      "cell_type": "code",
      "source": [
        "df2['Genre'].value_counts()"
      ],
      "metadata": {
        "id": "L8RcBFz-6T9h"
      },
      "execution_count": null,
      "outputs": []
    },
    {
      "cell_type": "code",
      "source": [
        "# 장르 검색 시 나오지 않는 게임 제거\n",
        "example_list3 = [\"Stranglehold\"]"
      ],
      "metadata": {
        "id": "EB95c7ko8XDw"
      },
      "execution_count": null,
      "outputs": []
    },
    {
      "cell_type": "code",
      "source": [
        "for i in example_list3:\n",
        "  id2 = df2.loc[df2.Name == i]\n",
        "  df2.drop(id2.index, inplace=True)\n",
        "  df2.reset_index(drop=True, inplace=True)"
      ],
      "metadata": {
        "id": "_4B4F9Ia8WDL"
      },
      "execution_count": null,
      "outputs": []
    },
    {
      "cell_type": "code",
      "source": [
        "# 장르 비워있는 인덱스\n",
        "gni = df2[df2['Genre'].isnull()].index\n",
        "gni"
      ],
      "metadata": {
        "id": "Q0BoNhNL6kXy"
      },
      "execution_count": null,
      "outputs": []
    },
    {
      "cell_type": "code",
      "source": [
        "# 장르 웹 크롤링\n",
        "g = []\n",
        "\n",
        "for i in gni:\n",
        "  base = 'https://www.wikiwand.com/en/'\n",
        "  url = Names[i]\n",
        "  headers = {'useragent': 'Mozilla/5.0 (Macintosh; Intel Mac OS X 10_15_7) AppleWebKit/537.36 (KHTML, like Gecko) Chrome/88.0.4324.96 Safari/537.36'}        \n",
        "  response = re.get(base+url, headers=headers)\n",
        "  html = BeautifulSoup(response.text, \"lxml\")\n",
        "  table = html.select(\"table\")\n",
        "  \n",
        "  if table:    \n",
        "    tables = pd.read_html(str(table))\n",
        "    t = tables[0]\n",
        "    a = t.loc[(t[t.columns[0]] =='Genre(s)') | (t[t.columns[0]] =='Genre')]\n",
        "    if a.index == '':\n",
        "      response = re.get(base+url+'(video game)', headers=headers)        \n",
        "      html = BeautifulSoup(response.text, \"lxml\")        \n",
        "      table = html.select(\"table\")\n",
        "      tables = pd.read_html(str(table))\n",
        "      t = tables[0]\n",
        "\n",
        "    print(t.columns[0])\n",
        "    print(Names[i])\n",
        "    a = t.loc[(t[t.columns[0]] =='Genre(s)') | (t[t.columns[0]] =='Genre')]\n",
        "    s = a.loc[:, [t.columns[1]]]\n",
        "    l = list(s.loc[s.index[0]])\n",
        "    g.append(l)\n",
        "  else:\n",
        "    g.append('')"
      ],
      "metadata": {
        "id": "trKVm-it625h"
      },
      "execution_count": null,
      "outputs": []
    },
    {
      "cell_type": "code",
      "source": [
        "g"
      ],
      "metadata": {
        "id": "BPN1idSR8lxv"
      },
      "execution_count": null,
      "outputs": []
    },
    {
      "cell_type": "code",
      "source": [
        "# 장르 채워넣기\n",
        "for i, v in enumerate(gni):\n",
        "  \n",
        "  if g[i] != '':\n",
        "    print(v)\n",
        "    df2.loc[v, 'Genre'] = g[i][0]\n",
        "    print(df2.loc[v, 'Genre'])"
      ],
      "metadata": {
        "id": "775m8Mss9TLH"
      },
      "execution_count": null,
      "outputs": []
    },
    {
      "cell_type": "code",
      "source": [
        "df2"
      ],
      "metadata": {
        "id": "iSfg2Sk8Uc96"
      },
      "execution_count": null,
      "outputs": []
    },
    {
      "cell_type": "code",
      "source": [
        "# 퍼블리셔 삭제(의미 없다 판단)\n",
        "df2 = df2.drop(['Publisher'], axis=1)"
      ],
      "metadata": {
        "id": "1PNDF5Fs-EXN"
      },
      "execution_count": null,
      "outputs": []
    },
    {
      "cell_type": "code",
      "source": [
        "df2.info()"
      ],
      "metadata": {
        "id": "S2G20hLN-LqZ"
      },
      "execution_count": null,
      "outputs": []
    },
    {
      "cell_type": "code",
      "source": [
        "# Action이 장르명에 포함되면 Action으로 통일\n",
        "r = df2[df2['Genre'].str.contains('Action', na=False)].index\n",
        "for i in r:\n",
        "  df2.loc[i, 'Genre'] = 'Action'"
      ],
      "metadata": {
        "id": "M5wnfOuoVwl8"
      },
      "execution_count": null,
      "outputs": []
    },
    {
      "cell_type": "code",
      "source": [
        "# Sports가 장르명에 포함되면 Sports로 통일\n",
        "s = df2[df2['Genre'].str.contains('Sports', na=False)].index\n",
        "for i in s:\n",
        "  df2.loc[i, 'Genre'] = 'Sports'"
      ],
      "metadata": {
        "id": "00awEyOjC4mC"
      },
      "execution_count": null,
      "outputs": []
    },
    {
      "cell_type": "code",
      "source": [
        "# role-playing이 장르명에 포함되면 Role-Playing으로 통일\n",
        "p = df2[df2['Genre'].str.contains('role-playing', na=False)].index\n",
        "for i in p:\n",
        "  df2.loc[i, 'Genre'] = 'Role-Playing'"
      ],
      "metadata": {
        "id": "DO6FaGTqDsA1"
      },
      "execution_count": null,
      "outputs": []
    },
    {
      "cell_type": "code",
      "source": [
        "# shooter가 장르명에 포함되면 Shooting으로 통일\n",
        "F = df2[df2['Genre'].str.contains('shooter|Shooter', na=False)].index\n",
        "for i in F:\n",
        "  df2.loc[i, 'Genre'] = 'Shooting'"
      ],
      "metadata": {
        "id": "iByPXLOmD8C7"
      },
      "execution_count": null,
      "outputs": []
    },
    {
      "cell_type": "code",
      "source": [
        "df2.isnull().sum()"
      ],
      "metadata": {
        "id": "9T8h2JkvEdau"
      },
      "execution_count": null,
      "outputs": []
    },
    {
      "cell_type": "code",
      "source": [
        "# blank 결측치 날리기\n",
        "df2['Genre'].replace('', np.nan, inplace=True)\n",
        "df2.dropna(subset=['Genre'], axis=0, inplace=True)"
      ],
      "metadata": {
        "id": "e0guo4CbFGEt"
      },
      "execution_count": null,
      "outputs": []
    },
    {
      "cell_type": "code",
      "source": [
        "df2.info()"
      ],
      "metadata": {
        "id": "F4RZ2g9wGtbm"
      },
      "execution_count": null,
      "outputs": []
    },
    {
      "cell_type": "code",
      "source": [
        "df2.reset_index(drop=True, inplace=True)"
      ],
      "metadata": {
        "id": "LJPoa5xOGxVa"
      },
      "execution_count": null,
      "outputs": []
    },
    {
      "cell_type": "code",
      "source": [
        "df2"
      ],
      "metadata": {
        "id": "DvEB5RulG3AL"
      },
      "execution_count": null,
      "outputs": []
    },
    {
      "cell_type": "code",
      "source": [
        "df3 = df2.copy();"
      ],
      "metadata": {
        "id": "4uLHezzRG_qn"
      },
      "execution_count": null,
      "outputs": []
    },
    {
      "cell_type": "code",
      "source": [
        "df3.info()"
      ],
      "metadata": {
        "id": "-kmvRq0tHCm5"
      },
      "execution_count": null,
      "outputs": []
    },
    {
      "cell_type": "code",
      "source": [
        "# 판매량 이상치 변환\n",
        "sales = ['NA_Sales','EU_Sales','JP_Sales','Other_Sales']"
      ],
      "metadata": {
        "id": "5c5lGRgMLMWf"
      },
      "execution_count": null,
      "outputs": []
    },
    {
      "cell_type": "code",
      "source": [
        "na = df3[df3['NA_Sales'].str.contains('K')].index\n",
        "eu = df3[df3['EU_Sales'].str.contains('K')].index\n",
        "jp = df3[df3['JP_Sales'].str.contains('K')].index\n",
        "other = df3[df3['Other_Sales'].str.contains('K')].index"
      ],
      "metadata": {
        "id": "RkUTOdI2LEA2"
      },
      "execution_count": null,
      "outputs": []
    },
    {
      "cell_type": "code",
      "source": [
        "# k = *1000 이므로 000, M은 ''로 변환 (M단위로 통일)\n",
        "for i in sales:\n",
        "  df3[i] = df3[i].str.replace('K', '000')\n",
        "  df3[i] = df3[i].str.replace('M', '')\n",
        "  df3[i] = df3[i].astype('float')\n"
      ],
      "metadata": {
        "id": "P_WVC04jHEn0"
      },
      "execution_count": null,
      "outputs": []
    },
    {
      "cell_type": "code",
      "source": [
        "df3"
      ],
      "metadata": {
        "id": "IPLih2MsIKuh"
      },
      "execution_count": null,
      "outputs": []
    },
    {
      "cell_type": "code",
      "source": [
        "# M 단위로 계산하기 위하여 K를 변환한 값들만 1000000으로 나눠준다."
      ],
      "metadata": {
        "id": "NHdYeVGqT1R6"
      },
      "execution_count": null,
      "outputs": []
    },
    {
      "cell_type": "code",
      "source": [
        "for i in na:\n",
        "  df3.loc[i, 'NA_Sales'] = df3.loc[i, 'NA_Sales'] / 1000000\n",
        "for i in eu:\n",
        "  df3.loc[i, 'EU_Sales'] = df3.loc[i, 'EU_Sales'] / 1000000\n",
        "for i in jp:\n",
        "  df3.loc[i, 'JP_Sales'] = df3.loc[i, 'JP_Sales'] / 1000000\n",
        "for i in other:\n",
        "  df3.loc[i, 'Other_Sales'] = df3.loc[i, 'Other_Sales'] / 1000000"
      ],
      "metadata": {
        "id": "onsMZQoQH_K4"
      },
      "execution_count": null,
      "outputs": []
    },
    {
      "cell_type": "code",
      "source": [
        "df3"
      ],
      "metadata": {
        "id": "coTqWVofQf-K"
      },
      "execution_count": null,
      "outputs": []
    },
    {
      "cell_type": "code",
      "source": [
        "# 결측치 및 이상치 모두 제거/변환 완료\n",
        "df3.info()"
      ],
      "metadata": {
        "id": "vavFY5YVJ3qY"
      },
      "execution_count": null,
      "outputs": []
    },
    {
      "cell_type": "code",
      "source": [
        "# 저장\n",
        "df3.to_csv('final.csv')"
      ],
      "metadata": {
        "id": "N0RXseixjPAD"
      },
      "execution_count": null,
      "outputs": []
    }
  ]
}