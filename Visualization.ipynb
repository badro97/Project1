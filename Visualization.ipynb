{
  "nbformat": 4,
  "nbformat_minor": 0,
  "metadata": {
    "colab": {
      "private_outputs": true,
      "provenance": [],
      "include_colab_link": true
    },
    "kernelspec": {
      "name": "python3",
      "display_name": "Python 3"
    },
    "language_info": {
      "name": "python"
    }
  },
  "cells": [
    {
      "cell_type": "markdown",
      "metadata": {
        "id": "view-in-github",
        "colab_type": "text"
      },
      "source": [
        "<a href=\"https://colab.research.google.com/github/badro97/project1/blob/main/Visualization.ipynb\" target=\"_parent\"><img src=\"https://colab.research.google.com/assets/colab-badge.svg\" alt=\"Open In Colab\"/></a>"
      ]
    },
    {
      "cell_type": "code",
      "source": [
        "# 시각화, 가설 검증"
      ],
      "metadata": {
        "id": "mwiRMbXt4Gbs"
      },
      "execution_count": null,
      "outputs": []
    },
    {
      "cell_type": "code",
      "execution_count": null,
      "metadata": {
        "id": "h7DnNMoXlW0n"
      },
      "outputs": [],
      "source": [
        "import pandas as pd\n",
        "import numpy as np\n",
        "import seaborn as sns\n",
        "import random\n",
        "import matplotlib.pyplot as plt"
      ]
    },
    {
      "cell_type": "code",
      "source": [
        "# 파일 불러오기\n",
        "df = pd.read_csv('final.csv');"
      ],
      "metadata": {
        "id": "whnDQ9fEsqx2"
      },
      "execution_count": null,
      "outputs": []
    },
    {
      "cell_type": "code",
      "source": [
        "df.Genre.value_counts()"
      ],
      "metadata": {
        "id": "hjSEJRg1yJid"
      },
      "execution_count": null,
      "outputs": []
    },
    {
      "cell_type": "code",
      "source": [
        "# 데이터가 한개 뿐인 장르 제거\n",
        "mask = df['Genre'].isin(['Survival horror'])\n",
        "df = df[~mask]"
      ],
      "metadata": {
        "id": "mkrCP1VagtoC"
      },
      "execution_count": null,
      "outputs": []
    },
    {
      "cell_type": "code",
      "source": [
        "# 장르/지역별 총 매출량 합계\n",
        "genre = df.groupby('Genre', as_index=False)['NA_Sales', 'EU_Sales', 'JP_Sales', 'Other_Sales'].sum()\n",
        "genre.rename(columns={'NA_Sales':'North America', 'EU_Sales':'Europe', 'JP_Sales':'Japan', 'Other_Sales':'Other'}, inplace=True)\n",
        "\n",
        "\n",
        "# 장르/지역별 매출량 평균 값\n",
        "genre_mean = df.groupby('Genre', as_index=False)['NA_Sales', 'EU_Sales', 'JP_Sales', 'Other_Sales'].mean()\n",
        "genre_mean.rename(columns={'NA_Sales':'North America', 'EU_Sales':'Europe', 'JP_Sales':'Japan', 'Other_Sales':'Other'}, inplace=True)\n"
      ],
      "metadata": {
        "id": "yMuNL4_oyzal"
      },
      "execution_count": null,
      "outputs": []
    },
    {
      "cell_type": "code",
      "source": [
        "# 장르별 게임 수\n",
        "ax = sns.displot(df, x=df['Genre'], binwidth=3, shrink=.8, height = 11, aspect = 1)\n",
        "\n",
        "plt.show()"
      ],
      "metadata": {
        "id": "N6dEwygN43E7"
      },
      "execution_count": null,
      "outputs": []
    },
    {
      "cell_type": "code",
      "source": [
        "# 연도별 장르 총 합\n",
        "yg = df.groupby('Year', as_index=False)['Genre'].count()\n",
        "yg.rename(columns={'Genre':'Total'}, inplace=True)\n",
        "yg"
      ],
      "metadata": {
        "id": "MCuwCLQAziv2"
      },
      "execution_count": null,
      "outputs": []
    },
    {
      "cell_type": "code",
      "source": [
        "o = df.Year.unique()\n",
        "o.sort()"
      ],
      "metadata": {
        "id": "V22d7HAEnvM-"
      },
      "execution_count": null,
      "outputs": []
    },
    {
      "cell_type": "code",
      "source": [
        "o"
      ],
      "metadata": {
        "id": "YiWTTlWxMyKv"
      },
      "execution_count": null,
      "outputs": []
    },
    {
      "cell_type": "code",
      "source": [
        "# 연도별 장르 count\n",
        "f = pd.DataFrame()\n",
        "for i, v in enumerate(o):\n",
        "  a = dict(df[df['Year'] == v].Genre.value_counts())\n",
        "  d = pd.DataFrame(a, index=[i])\n",
        "  if not f.empty:\n",
        "    f = pd.concat([f, d], axis=0)\n",
        "  else:\n",
        "    f = pd.concat([f, d], axis=0)\n",
        "f = f.fillna(0)"
      ],
      "metadata": {
        "id": "kyVDLQRIpC3U"
      },
      "execution_count": null,
      "outputs": []
    },
    {
      "cell_type": "code",
      "source": [
        "f"
      ],
      "metadata": {
        "id": "J7yFDoitrqAX"
      },
      "execution_count": null,
      "outputs": []
    },
    {
      "cell_type": "code",
      "source": [
        "# 장르 별 게임 수(연도 기준)\n",
        "aa = pd.concat([yg,f], axis=1) # 연도 데이터와 결합\n",
        "aa = aa.astype({'Year': int })\n",
        "aa"
      ],
      "metadata": {
        "id": "OUohpciM1RUw"
      },
      "execution_count": null,
      "outputs": []
    },
    {
      "cell_type": "code",
      "source": [
        "# 2000년대 이후, 총 카운트수 100 이상\n",
        "aa_spec = aa[(aa['Year'] >= 2000) & (aa['Total'] >= 100)]\n",
        "aa_spec.reset_index(drop=True, inplace=True)\n",
        "aa_spec"
      ],
      "metadata": {
        "id": "ZraQw-yfbxwW"
      },
      "execution_count": null,
      "outputs": []
    },
    {
      "cell_type": "code",
      "source": [
        "# 2000년대 이후 연도/장르 별 게임 수 비교 함수\n",
        "\n",
        "def Year_Genre_Counter(data):\n",
        "  data = data.drop('Total', axis=1)\n",
        "\n",
        "  plt.figure(figsize=(24, 13))\n",
        "\n",
        "  gen=[]\n",
        "  for i in data.columns[1:]:\n",
        "    plt.plot(i, data=data, marker=\"o\", linewidth=3)\n",
        "    gen.append(i)\n",
        "\n",
        "  plt.legend(gen)  \n",
        "  plt.xlabel('Year')\n",
        "  plt.ylabel('Counts')\n",
        "\n",
        "  plt.grid(linestyle='--')\n",
        "\n",
        "  values = []\n",
        "  x = []\n",
        "  for i, v in enumerate(data.Year):\n",
        "    values.append(v)\n",
        "    x.append(i)\n",
        "  plt.title('Genre Counts by Year', fontsize=25, fontweight='bold')\n",
        "  plt.xticks(x, values, rotation=45)\n",
        "  plt.show()"
      ],
      "metadata": {
        "id": "yMVLDaq2ifPa"
      },
      "execution_count": null,
      "outputs": []
    },
    {
      "cell_type": "code",
      "source": [
        "Year_Genre_Counter(aa)"
      ],
      "metadata": {
        "id": "y5oH_VNOa3bU"
      },
      "execution_count": null,
      "outputs": []
    },
    {
      "cell_type": "code",
      "source": [
        "Year_Genre_Counter(aa_spec)"
      ],
      "metadata": {
        "id": "gGu8KwwOb5RW"
      },
      "execution_count": null,
      "outputs": []
    },
    {
      "cell_type": "code",
      "source": [
        "genre"
      ],
      "metadata": {
        "id": "_yAC_I60MGcG"
      },
      "execution_count": null,
      "outputs": []
    },
    {
      "cell_type": "code",
      "source": [
        "genre_mean"
      ],
      "metadata": {
        "id": "ss4CiTkPyOSg"
      },
      "execution_count": null,
      "outputs": []
    },
    {
      "cell_type": "code",
      "source": [
        "# 총 판매량 컬럼 추가\n",
        "genre['Total_Sales'] = genre['North America'] + genre['Europe'] + genre['Japan'] + genre['Other'] # 오류 수정....\n",
        "\n",
        "genre_mean['Total_Sales'] = genre_mean['North America'] + genre_mean['Europe'] + genre_mean['Japan'] + genre_mean['Other']"
      ],
      "metadata": {
        "id": "lkFX6X3737v_"
      },
      "execution_count": null,
      "outputs": []
    },
    {
      "cell_type": "code",
      "source": [
        "genre"
      ],
      "metadata": {
        "id": "bDESBwOxyjbe"
      },
      "execution_count": null,
      "outputs": []
    },
    {
      "cell_type": "code",
      "source": [
        "genre_mean"
      ],
      "metadata": {
        "id": "QbS4tGQnoK59"
      },
      "execution_count": null,
      "outputs": []
    },
    {
      "cell_type": "code",
      "source": [
        "# 지역별 총 판매량 합계\n",
        "\n",
        "plt.figure(figsize=(14, 10))\n",
        "\n",
        "country=[]\n",
        "for i in genre.columns[1:6]:\n",
        "  plt.plot(i, data=genre, marker=\"o\", linewidth=4)\n",
        "  country.append(i)\n",
        "\n",
        "plt.legend(country)  \n",
        "plt.xlabel('Genre')\n",
        "plt.ylabel('Mean')\n",
        "\n",
        "plt.grid(linestyle='--')\n",
        "\n",
        "values = []\n",
        "x = []\n",
        "for i, v in enumerate(genre.Genre):\n",
        "  values.append(v)\n",
        "  x.append(i)\n",
        "plt.title('Total Sales by Country (Genres)', fontsize=25, fontweight='bold')\n",
        "plt.xticks(x, values, rotation=45)\n",
        "plt.show()"
      ],
      "metadata": {
        "id": "cejJOLvVFLqq"
      },
      "execution_count": null,
      "outputs": []
    },
    {
      "cell_type": "code",
      "source": [
        "# 총 판매량이 가장 높은 4개의 장르 픽\n",
        "t4 = genre_mean.nlargest(4, ['Total_Sales'])\n",
        "t4"
      ],
      "metadata": {
        "id": "XaziSaSi5BJ6"
      },
      "execution_count": null,
      "outputs": []
    },
    {
      "cell_type": "code",
      "source": [
        "# 총 판매량 TOP4\n",
        "\n",
        "def top4(data):\n",
        "  data = data.drop('Total', axis=1)\n",
        "  plt.figure(figsize=(24, 13))\n",
        "\n",
        "  gen=[]\n",
        "  for i in t4.Genre:\n",
        "    plt.plot(i, data=data, marker=\"o\", linewidth=3)\n",
        "    gen.append(i)\n",
        "\n",
        "  plt.legend(gen)  \n",
        "  plt.xlabel('Year')\n",
        "  plt.ylabel('Counts')\n",
        "\n",
        "  plt.grid(linestyle='--')\n",
        "\n",
        "  values = []\n",
        "  x = []\n",
        "  for i, v in enumerate(data.Year):\n",
        "    values.append(v)\n",
        "    x.append(i)\n",
        "  plt.title('Genre Counts by Year', fontsize=25, fontweight='bold')\n",
        "  plt.xticks(x, values, rotation=45)\n",
        "  plt.show()"
      ],
      "metadata": {
        "id": "QW4_qf9Z3tiY"
      },
      "execution_count": null,
      "outputs": []
    },
    {
      "cell_type": "code",
      "source": [
        "top4(aa)"
      ],
      "metadata": {
        "id": "k4jV0Z9U5eQ4"
      },
      "execution_count": null,
      "outputs": []
    },
    {
      "cell_type": "code",
      "source": [
        "# 지역별 평균 판매량\n",
        "\n",
        "plt.figure(figsize=(14, 10))\n",
        "\n",
        "country=[]\n",
        "for i in genre_mean.columns[1:6]:\n",
        "  plt.plot(i, data=genre_mean, marker=\"o\", linewidth=4)\n",
        "  country.append(i)\n",
        "\n",
        "plt.legend(country)  \n",
        "plt.xlabel('Genre')\n",
        "plt.ylabel('Mean')\n",
        "\n",
        "plt.grid(linestyle='--')\n",
        "\n",
        "values = []\n",
        "x = []\n",
        "for i, v in enumerate(genre_mean.Genre):\n",
        "  values.append(v)\n",
        "  x.append(i)\n",
        "plt.title('Mean Total by Country (Genres)', fontsize=25, fontweight='bold')\n",
        "plt.xticks(x, values, rotation=45)\n",
        "plt.show()"
      ],
      "metadata": {
        "id": "_Do_j4WY7VpZ"
      },
      "execution_count": null,
      "outputs": []
    },
    {
      "cell_type": "code",
      "source": [
        "# 총 평균 판매량이 가장 높은 4개의 장르 픽\n",
        "tm4 = genre_mean.nlargest(4, ['Total_Sales'])\n",
        "tm4"
      ],
      "metadata": {
        "id": "Fhq0JqtNsxvi"
      },
      "execution_count": null,
      "outputs": []
    },
    {
      "cell_type": "code",
      "source": [
        "rt = df.value_counts('Genre', normalize=True)\n",
        "rt"
      ],
      "metadata": {
        "id": "kf3pQIRN6C0G"
      },
      "execution_count": null,
      "outputs": []
    },
    {
      "cell_type": "code",
      "source": [
        "df.Genre.unique()"
      ],
      "metadata": {
        "id": "B8bKxiknrvjb"
      },
      "execution_count": null,
      "outputs": []
    },
    {
      "cell_type": "code",
      "source": [
        "# 게임 산업 장르 분포\n",
        "\n",
        "ratio = []\n",
        "for v in rt:\n",
        "  ratio.append(v)\n",
        "labels = ['Action','Sports','Misc','Role-Playing','Adventure','Shooting','Racing','Simulation','Fighting','Platform','Strategy','Puzzle']\n",
        "\n",
        "\n",
        "fig = plt.figure(figsize=(10,10))\n",
        "fig.set_facecolor('white')\n",
        "\n",
        "\n",
        "ax = fig.add_subplot()\n",
        "ax.set_title('Proportions by Genre', fontsize=25)\n",
        "\n",
        "plt.rc('font', size=13)\n",
        "ax.pie(rt, labels=labels, autopct='%.1f%%')\n",
        "\n",
        "plt.show()"
      ],
      "metadata": {
        "id": "H-uFTCisPrOX"
      },
      "execution_count": null,
      "outputs": []
    },
    {
      "cell_type": "code",
      "source": [
        "df.describe()"
      ],
      "metadata": {
        "id": "PkgIFyduevRs"
      },
      "execution_count": null,
      "outputs": []
    },
    {
      "cell_type": "code",
      "source": [
        "df[df['NA_Sales'] == df.NA_Sales.max()]"
      ],
      "metadata": {
        "id": "5Rm2RR6mg9Vi"
      },
      "execution_count": null,
      "outputs": []
    },
    {
      "cell_type": "code",
      "source": [
        "df[df['EU_Sales'] == df.EU_Sales.max()]"
      ],
      "metadata": {
        "id": "U_tnc6t7hXei"
      },
      "execution_count": null,
      "outputs": []
    },
    {
      "cell_type": "code",
      "source": [
        "df[df['JP_Sales'] == df.JP_Sales.max()]"
      ],
      "metadata": {
        "id": "3GsM69m8hcLr"
      },
      "execution_count": null,
      "outputs": []
    },
    {
      "cell_type": "code",
      "source": [
        "df[df['Other_Sales'] == df.Other_Sales.max()]"
      ],
      "metadata": {
        "id": "78Eaxz94hhTk"
      },
      "execution_count": null,
      "outputs": []
    },
    {
      "cell_type": "code",
      "source": [
        "# 가장 많이 판매된 게임은 Wii Sports 로 지정"
      ],
      "metadata": {
        "id": "vThfBoFDYBcf"
      },
      "execution_count": null,
      "outputs": []
    },
    {
      "cell_type": "code",
      "source": [
        "df.info()"
      ],
      "metadata": {
        "id": "Uxyuy5vBXsVL"
      },
      "execution_count": null,
      "outputs": []
    },
    {
      "cell_type": "code",
      "source": [
        "df['Total_Sales'] = df['NA_Sales'] + df['EU_Sales'] + df['JP_Sales'] + df['Other_Sales']\n",
        "df.info()"
      ],
      "metadata": {
        "id": "qO55MVGDXv88"
      },
      "execution_count": null,
      "outputs": []
    },
    {
      "cell_type": "code",
      "source": [
        "# 총 판매량 상위 75%\n",
        "max = df[(df['Total_Sales'] >= df.Total_Sales.max()*0.25)]\n",
        "max = max.drop('Unnamed: 0', axis=1)\n",
        "max.reset_index(drop=True, inplace=True)\n",
        "max"
      ],
      "metadata": {
        "id": "SLzkgXz_Xnu5"
      },
      "execution_count": null,
      "outputs": []
    },
    {
      "cell_type": "code",
      "source": [
        "# 히스토그램\n",
        "plt.figure(figsize=(8,5))\n",
        "plt.hist(max.Total_Sales, alpha=.5)\n",
        "\n",
        "plt.axvline(x=max.Total_Sales.max(), c='red', label = 'Wii Sports')"
      ],
      "metadata": {
        "id": "3yb2JSAauA0H"
      },
      "execution_count": null,
      "outputs": []
    },
    {
      "cell_type": "code",
      "source": [
        "# 지역별 판매량 평균 표준정규분포\n",
        "\n",
        "m1 = max.NA_Sales.mean()\n",
        "m2 = max.EU_Sales.mean()\n",
        "m3 = max.JP_Sales.mean()\n",
        "m4 = max.Other_Sales.mean()\n",
        "\n",
        "sigma = 1.0\n",
        "\n",
        "x = np.linspace(-2, 22, 10000)\n",
        "na = (1 / np.sqrt(2 * np.pi * sigma**2)) * np.exp(-(x-m1)**2 / (2 * sigma**2))\n",
        "plt.plot(x, na, label='NA_Sales_Mean')\n",
        "\n",
        "eu = (1 / np.sqrt(2 * np.pi * sigma**2)) * np.exp(-(x-m2)**2 / (2 * sigma**2))\n",
        "plt.plot(x, eu, label='EU_Sales_Mean')\n",
        "\n",
        "jp = (1 / np.sqrt(2 * np.pi * sigma**2)) * np.exp(-(x-m3)**2 / (2 * sigma**2))\n",
        "plt.plot(x, jp, label='JP_Sales_Mean')\n",
        "\n",
        "other = (1 / np.sqrt(2 * np.pi * sigma**2)) * np.exp(-(x-m4)**2 / (2 * sigma**2))\n",
        "plt.plot(x, other, label='Other_Sales_Mean')\n",
        "\n",
        "plt.title('Standard Normal Distribution')\n",
        "plt.xlabel('x')\n",
        "plt.ylabel('f(x)')\n",
        "plt.legend()\n",
        "\n",
        "plt.show()"
      ],
      "metadata": {
        "id": "JVx-OLkh2vzb"
      },
      "execution_count": null,
      "outputs": []
    },
    {
      "cell_type": "code",
      "source": [
        "# 가설검증\n",
        "\n",
        "def statTest(genre):\n",
        "  random.seed(10)\n",
        "\n",
        "  means = []\n",
        "\n",
        "  for _ in range(1000):\n",
        "    bootsample= df[df['Genre'] == genre].sample(150, replace=True)\n",
        "    means.append(bootsample.Total_Sales.mean())\n",
        "\n",
        "  low, upper = np.percentile(means, 2.5),np.percentile(means, 97.5) \n",
        "\n",
        "  plt.figure(figsize=(8,5))\n",
        "  plt.title(genre)\n",
        "  plt.hist(means, alpha=0.5)\n",
        "  plt.axvline(x=low, color='r')\n",
        "  plt.axvline(x=upper, color='r', label='95% Confidence \\n Interval')\n",
        "  plt.axvline(x=df.Total_Sales.mean(), color='g', label = 'Total_Sales_Mean')\n",
        "  plt.legend(fontsize=10);"
      ],
      "metadata": {
        "id": "fP4iPdHMBHLe"
      },
      "execution_count": null,
      "outputs": []
    },
    {
      "cell_type": "code",
      "source": [
        "# \"총 매출 평균을 기준으로 하여 고려한다!\"\n",
        "for i in tm4.Genre:\n",
        "  statTest(i)"
      ],
      "metadata": {
        "id": "s_XgKkVPBpVa"
      },
      "execution_count": null,
      "outputs": []
    },
    {
      "cell_type": "code",
      "source": [
        "# 최종적인 의사결정을 위해 선택한 두개의 장르만 추려냄\n",
        "fin = df[(df['Genre']=='Shooting') | (df['Genre']=='Platform')]\n",
        "fin.reset_index(drop=True, inplace=True)\n",
        "fin = fin.iloc[:,[4,5,6,7,8,9]]"
      ],
      "metadata": {
        "id": "9qj6ouM6IK9F"
      },
      "execution_count": null,
      "outputs": []
    },
    {
      "cell_type": "code",
      "source": [
        "fin"
      ],
      "metadata": {
        "id": "x_ebnIMiL7sF"
      },
      "execution_count": null,
      "outputs": []
    },
    {
      "cell_type": "code",
      "source": [
        "# 분포 비교, p-value\n",
        "\n",
        "np.random.seed(10)\n",
        "\n",
        "Shooting_means, platform_means, diff_means = [], [], []\n",
        "\n",
        "for _ in range(1000):\n",
        "  sample = fin.sample(fin.shape[0], replace=True)\n",
        "  \n",
        "  Shooting_mean = sample[sample.Genre == 'Shooting'].Total_Sales.mean()\n",
        "  Shooting_means.append(Shooting_mean)\n",
        "\n",
        "  platform_mean = sample[sample.Genre == 'Platform'].Total_Sales.mean()\n",
        "  platform_means.append(platform_mean)\n",
        "\n",
        "  diff_means.append(Shooting_mean - platform_mean)"
      ],
      "metadata": {
        "id": "rFnf2D4NMGkR"
      },
      "execution_count": null,
      "outputs": []
    },
    {
      "cell_type": "code",
      "source": [
        "plt.figure(figsize=(14,8))\n",
        "plt.hist(Shooting_means, alpha = 0.5, label='Shooting')\n",
        "plt.hist(platform_means, alpha = 0.5, label = 'Platform')\n",
        "\n",
        "\n",
        "plt.hist(diff_means, alpha=0.5, label = 'Difference in Means')\n",
        "plt.axvline(0, c='r')\n",
        "plt.legend(loc=9, fontsize=13)\n",
        "plt.show()"
      ],
      "metadata": {
        "id": "rxnHyv7xNKYR"
      },
      "execution_count": null,
      "outputs": []
    },
    {
      "cell_type": "code",
      "source": [
        "# Role-Playing 총 판매량과 Platform 총 판매량의 차이 \n",
        "sample_diff_mean = sample[sample.Genre == 'Shooting'].Total_Sales.mean() - sample[sample.Genre == 'Platform'].Total_Sales.mean()\n",
        "sample_diff_mean"
      ],
      "metadata": {
        "id": "MZpvCrEQOibh"
      },
      "execution_count": null,
      "outputs": []
    },
    {
      "cell_type": "code",
      "source": [
        "sample_diff_std = np.std(diff_means)\n",
        "sample_diff_std"
      ],
      "metadata": {
        "id": "g3XAldPvOx4V"
      },
      "execution_count": null,
      "outputs": []
    },
    {
      "cell_type": "code",
      "source": [
        "plt.figure(figsize=(8,5))\n",
        "null_vals = np.random.normal(0, sample_diff_std, 1000) \n",
        "plt.hist(null_vals, alpha=0.5, label='null hypothesis')\n",
        "plt.axvline(sample_diff_mean, color='r', label='statistics')\n",
        "plt.legend(loc=9, fontsize=13)\n",
        "plt.show()"
      ],
      "metadata": {
        "id": "vA_2z_k7O2zJ"
      },
      "execution_count": null,
      "outputs": []
    },
    {
      "cell_type": "code",
      "source": [
        "## 샘플에서의 전환율 확인 (Shooting, Platform)"
      ],
      "metadata": {
        "id": "og3MtqWKtgYb"
      },
      "execution_count": null,
      "outputs": []
    },
    {
      "cell_type": "code",
      "source": [
        "shooting = fin[fin['Genre']=='Shooting'].reset_index(drop=True)\n",
        "platform = fin[fin['Genre']=='Platform'].reset_index(drop=True)\n",
        "\n",
        "\n",
        "# 전체 데이터셋에서의 전환율\n",
        "ctr_pop = df.Total_Sales.mean()\n",
        "ctr_pop"
      ],
      "metadata": {
        "id": "Co2C8z4ZgKBw"
      },
      "execution_count": null,
      "outputs": []
    },
    {
      "cell_type": "code",
      "source": [
        "# 대조군 그룹에서의 전환율 (Shooting 장르가 더 좋음)\n",
        "ctr_control = shooting.Total_Sales.mean()\n",
        "ctr_control"
      ],
      "metadata": {
        "id": "gCJjgnuSk62W"
      },
      "execution_count": null,
      "outputs": []
    },
    {
      "cell_type": "code",
      "source": [
        "# 실험군 그룹에서의 전환율 (Platform 장르가 더 좋음)\n",
        "ctr_exp = platform.Total_Sales.mean()\n",
        "ctr_exp"
      ],
      "metadata": {
        "id": "YBsGmMjDlLAv"
      },
      "execution_count": null,
      "outputs": []
    },
    {
      "cell_type": "code",
      "source": [
        "# 두 그룹에서 전환율의 차이\n",
        "ctr_diff = ctr_exp - ctr_control\n",
        "ctr_diff"
      ],
      "metadata": {
        "id": "_DwPPMYklN1c"
      },
      "execution_count": null,
      "outputs": []
    },
    {
      "cell_type": "code",
      "source": [
        "## AB Test"
      ],
      "metadata": {
        "id": "UowS-fm6tdfS"
      },
      "execution_count": null,
      "outputs": []
    },
    {
      "cell_type": "code",
      "source": [
        "# 대조군 그룹(shooting)의 총 평균매출 데이터 수 \n",
        "n_control = shooting.Total_Sales.shape[0]\n",
        "n_control"
      ],
      "metadata": {
        "id": "2tb44hxIqT83"
      },
      "execution_count": null,
      "outputs": []
    },
    {
      "cell_type": "code",
      "source": [
        "# 실험군 그룹(platform)의 총 평균매출 데이터 수 \n",
        "n_exp = platform.Total_Sales.shape[0]\n",
        "n_exp"
      ],
      "metadata": {
        "id": "PvWYcPWXqPCB"
      },
      "execution_count": null,
      "outputs": []
    },
    {
      "cell_type": "code",
      "source": [
        "import random\n",
        "np.random.seed(10)\n",
        "\n",
        "p_diffs = []\n",
        "\n",
        "for _ in range(1000):\n",
        "    platform_converted = np.random.choice([0,1], n_exp, p = [1-ctr_pop, ctr_pop], replace=True)\n",
        "    shooting_converted = np.random.choice([0,1], n_control, p = [1-ctr_pop, ctr_pop], replace=True)\n",
        "    p_diffs.append(platform_converted.mean() - shooting_converted.mean())\n",
        "p_diffs = np.array(p_diffs)\n",
        "plt.figure(figsize=(8,6))\n",
        "plt.hist(p_diffs, alpha=0.6)\n",
        "plt.axvline(ctr_diff, color='r', label='Sample Difference')\n",
        "plt.legend();"
      ],
      "metadata": {
        "id": "7yp67tjolPzw"
      },
      "execution_count": null,
      "outputs": []
    },
    {
      "cell_type": "code",
      "source": [
        "(p_diffs > ctr_diff).mean()"
      ],
      "metadata": {
        "id": "k4_D7bxOrD_1"
      },
      "execution_count": null,
      "outputs": []
    },
    {
      "cell_type": "markdown",
      "source": [
        "p-value = 0 < 0.05 이므로 귀무가설을 기각하고 대립가설을 채택한다.\n",
        "\n",
        "Platform 장르를 선택하는 것으로 최종 판단.\n",
        "\n",
        "---\n",
        "\n",
        "shooting 장르는 보다 많은 양의 게임 발매로 게임 시장 분포 비율이 높으므로,\n",
        "\n",
        "플랫폼(VR) 장르를 바탕으로 한 First Person Shooting 게임 제작을 계획한다.\n",
        "\n",
        "---\n",
        "기준 : 총 매출 평균\n",
        "\n",
        "비교/참고 모델 : Half-life:Alyx\n",
        "\n",
        "연동 플랫폼 : HTC Vibe, Oculus Quest"
      ],
      "metadata": {
        "id": "cEyEJcA5rcDn"
      }
    }
  ]
}